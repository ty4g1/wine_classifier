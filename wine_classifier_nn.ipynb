{
 "cells": [
  {
   "cell_type": "markdown",
   "metadata": {},
   "source": [
    "# Wine Classifier (Neural Network)\n",
    "\n",
    "This is a simple wine classifier based on the `sklearn` wine dataset, which uses neural networks as a form of unsupervised learning."
   ]
  },
  {
   "cell_type": "code",
   "execution_count": 16,
   "metadata": {},
   "outputs": [
    {
     "name": "stdout",
     "output_type": "stream",
     "text": [
      "Using device: cuda\n"
     ]
    }
   ],
   "source": [
    "# import libraries\n",
    "\n",
    "import matplotlib.pyplot as plt\n",
    "import numpy as np\n",
    "import pandas as pd\n",
    "import seaborn as sns\n",
    "from sklearn.datasets import load_wine\n",
    "from sklearn.decomposition import PCA\n",
    "from sklearn.model_selection import train_test_split\n",
    "from sklearn.preprocessing import StandardScaler\n",
    "import torch\n",
    "import torch.nn as nn\n",
    "import torch.optim as optim\n",
    "\n",
    "device = (\"cuda\" if torch.cuda.is_available() else \"cpu\")\n",
    "print(\"Using device:\", device)"
   ]
  },
  {
   "cell_type": "markdown",
   "metadata": {},
   "source": [
    "Let us now load in the dataset, normalize the features, and split it into training and test sets. We are using a 80/20 split here."
   ]
  },
  {
   "cell_type": "code",
   "execution_count": 28,
   "metadata": {},
   "outputs": [],
   "source": [
    "# Load the wine dataset\n",
    "wine = load_wine(as_frame=True)\n",
    "X = wine.data.values\n",
    "y = wine.target.values\n",
    "\n",
    "# Normalize features\n",
    "scaler = StandardScaler()\n",
    "X_scaled = scaler.fit_transform(X)\n",
    "\n",
    "\n",
    "# Split into training and test sets\n",
    "X_train, X_test, y_train, y_test = train_test_split(X_scaled, y, test_size=0.2, random_state=42)\n",
    "\n",
    "# Convert to pytorch tensors\n",
    "X_train = torch.FloatTensor(X_train)\n",
    "X_test = torch.FloatTensor(X_test)\n",
    "y_train = torch.LongTensor(y_train)\n",
    "y_test = torch.LongTensor(y_test)"
   ]
  },
  {
   "cell_type": "markdown",
   "metadata": {},
   "source": [
    "Alright, lets now define our model class. \n",
    "\n",
    "Reasons for using ReLU activation in hidden layer:\n",
    "- It is easy to compute.\n",
    "- A simple way to introduce non-linearity.\n",
    "- Works well for simple problems.\n",
    "\n",
    "How did we get 8 as the hidden size? \n",
    "Average of input and output (13 + 3) / 2 = 6\n"
   ]
  },
  {
   "cell_type": "code",
   "execution_count": 29,
   "metadata": {},
   "outputs": [],
   "source": [
    "class WineClassifier(nn.Module):\n",
    "    def __init__(self, input_size=13, hidden_size=8, num_classes=3):\n",
    "        super(WineClassifier, self).__init__()\n",
    "        self.layer1 = nn.Linear(input_size, hidden_size)\n",
    "        self.relu = nn.ReLU()\n",
    "        self.layer2 = nn.Linear(hidden_size, num_classes)\n",
    "    \n",
    "    def forward(self, x):\n",
    "        x = self.layer1(x)\n",
    "        x = self.relu(x)\n",
    "        x = self.layer2(x)\n",
    "        return x"
   ]
  },
  {
   "cell_type": "markdown",
   "metadata": {},
   "source": [
    "Lets initialize our model, loss function and optimizer.\n",
    "\n",
    "We are using cross entropy loss as it is suitable for multi-class classification problems.\n",
    "\n",
    "We are using the Adam optimizer as it is a good default choice that works well without much tuning.\n",
    "\n",
    "Learning rate is 0.01 as it is often a good default choice."
   ]
  },
  {
   "cell_type": "code",
   "execution_count": 30,
   "metadata": {},
   "outputs": [],
   "source": [
    "model = WineClassifier()\n",
    "criterion = nn.CrossEntropyLoss()\n",
    "optimizer = optim.Adam(model.parameters(), lr=0.01)"
   ]
  },
  {
   "cell_type": "code",
   "execution_count": 31,
   "metadata": {},
   "outputs": [
    {
     "name": "stdout",
     "output_type": "stream",
     "text": [
      "Epoch [10/100], Loss: 0.7773\n",
      "Train Accuracy: 0.6549, Test Accuracy: 0.8056\n",
      "Epoch [20/100], Loss: 0.4547\n",
      "Train Accuracy: 0.8944, Test Accuracy: 0.8889\n",
      "Epoch [30/100], Loss: 0.2180\n",
      "Train Accuracy: 0.9577, Test Accuracy: 0.9444\n",
      "Epoch [40/100], Loss: 0.1025\n",
      "Train Accuracy: 0.9930, Test Accuracy: 0.9722\n",
      "Epoch [50/100], Loss: 0.0538\n",
      "Train Accuracy: 0.9930, Test Accuracy: 1.0000\n",
      "Epoch [60/100], Loss: 0.0333\n",
      "Train Accuracy: 1.0000, Test Accuracy: 1.0000\n",
      "Epoch [70/100], Loss: 0.0228\n",
      "Train Accuracy: 1.0000, Test Accuracy: 1.0000\n",
      "Epoch [80/100], Loss: 0.0168\n",
      "Train Accuracy: 1.0000, Test Accuracy: 1.0000\n",
      "Epoch [90/100], Loss: 0.0132\n",
      "Train Accuracy: 1.0000, Test Accuracy: 1.0000\n",
      "Epoch [100/100], Loss: 0.0108\n",
      "Train Accuracy: 1.0000, Test Accuracy: 1.0000\n"
     ]
    }
   ],
   "source": [
    "# Define training loop\n",
    "\n",
    "num_epochs = 100\n",
    "train_losses = []\n",
    "train_accuracies = []\n",
    "test_accuracies = []\n",
    "\n",
    "for epoch in range(num_epochs):\n",
    "    # Training\n",
    "    model.train()                           # Kind of put the model into training mode\n",
    "    optimizer.zero_grad()                   # Reset gradient values for parameters\n",
    "    output = model(X_train)                 # Do a forward pass\n",
    "    loss = criterion(output, y_train)       # Compute loss\n",
    "    loss.backward()                         # Do a backward pass\n",
    "    optimizer.step()                        # Update weights\n",
    "\n",
    "    # Calculate training accuracy\n",
    "    _, y_pred = torch.max(output, 1)\n",
    "    train_accuracy = (y_pred == y_train).sum().item() / y_train.size(0)\n",
    "\n",
    "    # Calculate test accuracy\n",
    "    model.eval()\n",
    "    with torch.no_grad():\n",
    "        test_outputs = model(X_test)\n",
    "        _, test_predicted = torch.max(test_outputs.data, 1)\n",
    "        test_accuracy = (test_predicted == y_test).sum().item() / y_test.size(0)\n",
    "\n",
    "    # Store metrics\n",
    "    train_losses.append(loss.item())\n",
    "    train_accuracies.append(train_accuracy)\n",
    "    test_accuracies.append(test_accuracy)\n",
    "\n",
    "    # Print progress every 10 epochs\n",
    "    if (epoch + 1) % 10 == 0:\n",
    "        print(f'Epoch [{epoch+1}/{num_epochs}], Loss: {loss.item():.4f}')\n",
    "        print(f'Train Accuracy: {train_accuracy:.4f}, Test Accuracy: {test_accuracy:.4f}')"
   ]
  },
  {
   "cell_type": "markdown",
   "metadata": {},
   "source": [
    "We can now plot the training loss and the training/test accuracies with the number of epochs."
   ]
  },
  {
   "cell_type": "code",
   "execution_count": 32,
   "metadata": {},
   "outputs": [
    {
     "data": {
      "image/png": "[encoded data removed]",
      "text/plain": [
       "<Figure size 1200x400 with 2 Axes>"
      ]
     },
     "metadata": {},
     "output_type": "display_data"
    }
   ],
   "source": [
    "# Plot training curves\n",
    "plt.figure(figsize=(12, 4))\n",
    "\n",
    "# Loss curve\n",
    "plt.subplot(1, 2, 1)\n",
    "plt.plot(train_losses)\n",
    "plt.title('Training Loss')\n",
    "plt.xlabel('Epoch')\n",
    "plt.ylabel('Loss')\n",
    "\n",
    "# Accuracy curves\n",
    "plt.subplot(1, 2, 2)\n",
    "plt.plot(train_accuracies, label='Train')\n",
    "plt.plot(test_accuracies, label='Test')\n",
    "plt.title('Model Accuracy')\n",
    "plt.xlabel('Epoch')\n",
    "plt.ylabel('Accuracy')\n",
    "plt.legend()\n",
    "\n",
    "plt.tight_layout()\n",
    "plt.show()"
   ]
  },
  {
   "cell_type": "code",
   "execution_count": 36,
   "metadata": {},
   "outputs": [
    {
     "name": "stdout",
     "output_type": "stream",
     "text": [
      "\n",
      "Final Test Accuracy: 1.0000\n"
     ]
    }
   ],
   "source": [
    "# Final evaluation\n",
    "model.eval()\n",
    "with torch.no_grad():\n",
    "    final_test_outputs = model(X_test)\n",
    "    _, final_predicted = torch.max(final_test_outputs.data, 1)\n",
    "    final_accuracy = (final_predicted == y_test).sum().item() / y_test.size(0)\n",
    "    print(f'\\nFinal Test Accuracy: {final_accuracy:.4f}')"
   ]
  }
 ],
 "metadata": {
  "kernelspec": {
   "display_name": "base",
   "language": "python",
   "name": "python3"
  },
  "language_info": {
   "codemirror_mode": {
    "name": "ipython",
    "version": 3
   },
   "file_extension": ".py",
   "mimetype": "text/x-python",
   "name": "python",
   "nbconvert_exporter": "python",
   "pygments_lexer": "ipython3",
   "version": "3.12.7"
  }
 },
 "nbformat": 4,
 "nbformat_minor": 2
}
